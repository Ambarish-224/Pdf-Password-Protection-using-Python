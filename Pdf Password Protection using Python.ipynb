{
 "cells": [
  {
   "cell_type": "markdown",
   "id": "c56cf131",
   "metadata": {},
   "source": [
    "# Pdf Password Protection using Python"
   ]
  },
  {
   "cell_type": "code",
   "execution_count": 1,
   "id": "3d60027c",
   "metadata": {},
   "outputs": [],
   "source": [
    "## PikePdf is a Python Library for Reading and Writing Pdf File. "
   ]
  },
  {
   "cell_type": "code",
   "execution_count": 2,
   "id": "f5286350",
   "metadata": {},
   "outputs": [
    {
     "name": "stdout",
     "output_type": "stream",
     "text": [
      "Requirement already satisfied: pikepdf in c:\\users\\lenovo\\anaconda3\\lib\\site-packages (7.2.0)\n",
      "Requirement already satisfied: Pillow>=9.0 in c:\\users\\lenovo\\anaconda3\\lib\\site-packages (from pikepdf) (9.5.0)\n",
      "Requirement already satisfied: lxml>=4.8 in c:\\users\\lenovo\\anaconda3\\lib\\site-packages (from pikepdf) (4.9.2)\n",
      "Requirement already satisfied: deprecation in c:\\users\\lenovo\\anaconda3\\lib\\site-packages (from pikepdf) (2.1.0)\n",
      "Requirement already satisfied: packaging in c:\\users\\lenovo\\anaconda3\\lib\\site-packages (from pikepdf) (22.0)\n"
     ]
    }
   ],
   "source": [
    "## Installing pikepdf Library \n",
    "!pip install pikepdf"
   ]
  },
  {
   "cell_type": "code",
   "execution_count": 3,
   "id": "df491aed",
   "metadata": {},
   "outputs": [],
   "source": [
    "## Importing pikepdf Library\n",
    "import pikepdf"
   ]
  },
  {
   "cell_type": "code",
   "execution_count": 4,
   "id": "bd0b46d9",
   "metadata": {},
   "outputs": [],
   "source": [
    "## Opening pdf via system Filepath\n",
    "old_file = pikepdf.Pdf.open(r\"C:\\Users\\Lenovo\\Desktop\\DATA SCIENCE Project\\Pdf Password Protector\\ML For Everyone.pdf\")"
   ]
  },
  {
   "cell_type": "code",
   "execution_count": 7,
   "id": "ee40c378",
   "metadata": {},
   "outputs": [
    {
     "name": "stdout",
     "output_type": "stream",
     "text": [
      " ML For Everyone_224 PDF File Created Successfully with Password\n"
     ]
    }
   ],
   "source": [
    "## Securing Pdf by Encryption method using Python Library pikepdf\n",
    "allow_key = pikepdf.Permissions(extract=False)\n",
    "\n",
    "old_file.save(r\"C:\\Users\\Lenovo\\Desktop\\DATA SCIENCE Project\\Pdf Password Protector\\ML For Everyone_224.pdf\",\n",
    "             encryption = pikepdf.Encryption(user = \"12345\",\n",
    "                                            owner = \"Ambarish_224\",\n",
    "                                            allow = allow_key))\n",
    "\n",
    "print(\" ML For Everyone_224 PDF File Created Successfully with Password\")"
   ]
  },
  {
   "cell_type": "markdown",
   "id": "d5df966e",
   "metadata": {},
   "source": [
    "# Thank You"
   ]
  }
 ],
 "metadata": {
  "kernelspec": {
   "display_name": "Python 3 (ipykernel)",
   "language": "python",
   "name": "python3"
  },
  "language_info": {
   "codemirror_mode": {
    "name": "ipython",
    "version": 3
   },
   "file_extension": ".py",
   "mimetype": "text/x-python",
   "name": "python",
   "nbconvert_exporter": "python",
   "pygments_lexer": "ipython3",
   "version": "3.9.7"
  }
 },
 "nbformat": 4,
 "nbformat_minor": 5
}
